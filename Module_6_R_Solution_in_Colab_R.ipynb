{
  "nbformat": 4,
  "nbformat_minor": 0,
  "metadata": {
    "colab": {
      "provenance": [],
      "authorship_tag": "ABX9TyMvqcC0DTAIRCcky1k4VscG",
      "include_colab_link": true
    },
    "kernelspec": {
      "name": "ir",
      "display_name": "R"
    },
    "language_info": {
      "name": "R"
    }
  },
  "cells": [
    {
      "cell_type": "markdown",
      "metadata": {
        "id": "view-in-github",
        "colab_type": "text"
      },
      "source": [
        "<a href=\"https://colab.research.google.com/github/tonybanjo2001/BAN6420_Module_6/blob/main/Module_6_R_Solution_in_Colab_R.ipynb\" target=\"_parent\"><img src=\"https://colab.research.google.com/assets/colab-badge.svg\" alt=\"Open In Colab\"/></a>"
      ]
    },
    {
      "cell_type": "markdown",
      "source": [
        "# **This in the Python Environment**"
      ],
      "metadata": {
        "id": "Dw3uN9I3enaa"
      }
    },
    {
      "cell_type": "code",
      "source": [
        "# Install R essentials\n",
        "!apt-get install -y r-base\n",
        "\n",
        "# Install required R packages\n",
        "!R -e \"install.packages('reticulate', repos='http://cran.us.r-project.org')\"\n",
        "!R -e \"install.packages('keras', repos='http://cran.us.r-project.org')\"\n",
        "!R -e \"install.packages('tensorflow', repos='http://cran.us.r-project.org')\""
      ],
      "metadata": {
        "colab": {
          "base_uri": "https://localhost:8080/"
        },
        "id": "f7UZ625Obbv6",
        "outputId": "af18824d-ba9a-44fe-959e-5ab2a6623ef8"
      },
      "execution_count": null,
      "outputs": [
        {
          "output_type": "stream",
          "name": "stdout",
          "text": [
            "Reading package lists... Done\n",
            "Building dependency tree... Done\n",
            "Reading state information... Done\n",
            "r-base is already the newest version (4.4.1-1.2204.0).\n",
            "0 upgraded, 0 newly installed, 0 to remove and 45 not upgraded.\n",
            "\n",
            "R version 4.4.1 (2024-06-14) -- \"Race for Your Life\"\n",
            "Copyright (C) 2024 The R Foundation for Statistical Computing\n",
            "Platform: x86_64-pc-linux-gnu\n",
            "\n",
            "R is free software and comes with ABSOLUTELY NO WARRANTY.\n",
            "You are welcome to redistribute it under certain conditions.\n",
            "Type 'license()' or 'licence()' for distribution details.\n",
            "\n",
            "  Natural language support but running in an English locale\n",
            "\n",
            "R is a collaborative project with many contributors.\n",
            "Type 'contributors()' for more information and\n",
            "'citation()' on how to cite R or R packages in publications.\n",
            "\n",
            "Type 'demo()' for some demos, 'help()' for on-line help, or\n",
            "'help.start()' for an HTML browser interface to help.\n",
            "Type 'q()' to quit R.\n",
            "\n",
            "> install.packages('reticulate', repos='http://cran.us.r-project.org')\n",
            "Installing package into ‘/usr/local/lib/R/site-library’\n",
            "(as ‘lib’ is unspecified)\n",
            "also installing the dependencies ‘RcppTOML’, ‘here’, ‘png’\n",
            "\n",
            "trying URL 'http://cran.us.r-project.org/src/contrib/RcppTOML_0.2.2.tar.gz'\n",
            "Content type 'application/x-gzip' length 141195 bytes (137 KB)\n",
            "==================================================\n",
            "downloaded 137 KB\n",
            "\n",
            "trying URL 'http://cran.us.r-project.org/src/contrib/here_1.0.1.tar.gz'\n",
            "Content type 'application/x-gzip' length 32954 bytes (32 KB)\n",
            "==================================================\n",
            "downloaded 32 KB\n",
            "\n",
            "trying URL 'http://cran.us.r-project.org/src/contrib/png_0.1-8.tar.gz'\n",
            "Content type 'application/x-gzip' length 24880 bytes (24 KB)\n",
            "==================================================\n",
            "downloaded 24 KB\n",
            "\n",
            "trying URL 'http://cran.us.r-project.org/src/contrib/reticulate_1.38.0.tar.gz'\n",
            "Content type 'application/x-gzip' length 1626977 bytes (1.6 MB)\n",
            "==================================================\n",
            "downloaded 1.6 MB\n",
            "\n",
            "* installing *source* package ‘RcppTOML’ ...\n",
            "** package ‘RcppTOML’ successfully unpacked and MD5 sums checked\n",
            "** using staged installation\n",
            "** libs\n",
            "using C++ compiler: ‘g++ (Ubuntu 11.4.0-1ubuntu1~22.04) 11.4.0’\n",
            "using C++17\n",
            "g++ -std=gnu++17 -I\"/usr/share/R/include\" -DNDEBUG -I../inst/include -DTOML_ENABLE_FLOAT16=0 -I'/usr/lib/R/site-library/Rcpp/include'     -fpic  -g -O2 -ffile-prefix-map=/build/r-base-avGvPq/r-base-4.4.1=. -fstack-protector-strong -Wformat -Werror=format-security -Wdate-time -D_FORTIFY_SOURCE=2   -c RcppExports.cpp -o RcppExports.o\n",
            "g++ -std=gnu++17 -I\"/usr/share/R/include\" -DNDEBUG -I../inst/include -DTOML_ENABLE_FLOAT16=0 -I'/usr/lib/R/site-library/Rcpp/include'     -fpic  -g -O2 -ffile-prefix-map=/build/r-base-avGvPq/r-base-4.4.1=. -fstack-protector-strong -Wformat -Werror=format-security -Wdate-time -D_FORTIFY_SOURCE=2   -c parse.cpp -o parse.o\n",
            "g++ -std=gnu++17 -shared -L/usr/lib/R/lib -Wl,-Bsymbolic-functions -flto=auto -ffat-lto-objects -flto=auto -Wl,-z,relro -o RcppTOML.so RcppExports.o parse.o -L/usr/lib/R/lib -lR\n",
            "installing to /usr/local/lib/R/site-library/00LOCK-RcppTOML/00new/RcppTOML/libs\n",
            "** R\n",
            "** inst\n",
            "** byte-compile and prepare package for lazy loading\n",
            "** help\n",
            "*** installing help indices\n",
            "** building package indices\n",
            "** testing if installed package can be loaded from temporary location\n",
            "** checking absolute paths in shared objects and dynamic libraries\n",
            "** testing if installed package can be loaded from final location\n",
            "** testing if installed package keeps a record of temporary installation path\n",
            "* DONE (RcppTOML)\n",
            "* installing *source* package ‘here’ ...\n",
            "** package ‘here’ successfully unpacked and MD5 sums checked\n",
            "** using staged installation\n",
            "** R\n",
            "** inst\n",
            "** byte-compile and prepare package for lazy loading\n",
            "** help\n",
            "*** installing help indices\n",
            "*** copying figures\n",
            "** building package indices\n",
            "** installing vignettes\n",
            "** testing if installed package can be loaded from temporary location\n",
            "** testing if installed package can be loaded from final location\n",
            "** testing if installed package keeps a record of temporary installation path\n",
            "* DONE (here)\n",
            "* installing *source* package ‘png’ ...\n",
            "** package ‘png’ successfully unpacked and MD5 sums checked\n",
            "** using staged installation\n",
            "** libs\n",
            "using C compiler: ‘gcc (Ubuntu 11.4.0-1ubuntu1~22.04) 11.4.0’\n",
            "gcc -I\"/usr/share/R/include\" -DNDEBUG       `libpng-config --cflags` -fpic  -g -O2 -ffile-prefix-map=/build/r-base-avGvPq/r-base-4.4.1=. -fstack-protector-strong -Wformat -Werror=format-security -Wdate-time -D_FORTIFY_SOURCE=2  -c dummy.c -o dummy.o\n",
            "gcc -I\"/usr/share/R/include\" -DNDEBUG       `libpng-config --cflags` -fpic  -g -O2 -ffile-prefix-map=/build/r-base-avGvPq/r-base-4.4.1=. -fstack-protector-strong -Wformat -Werror=format-security -Wdate-time -D_FORTIFY_SOURCE=2  -c read.c -o read.o\n",
            "gcc -I\"/usr/share/R/include\" -DNDEBUG       `libpng-config --cflags` -fpic  -g -O2 -ffile-prefix-map=/build/r-base-avGvPq/r-base-4.4.1=. -fstack-protector-strong -Wformat -Werror=format-security -Wdate-time -D_FORTIFY_SOURCE=2  -c write.c -o write.o\n",
            "gcc -shared -L/usr/lib/R/lib -Wl,-Bsymbolic-functions -flto=auto -ffat-lto-objects -flto=auto -Wl,-z,relro -o png.so dummy.o read.o write.o -lpng16 -lm -lz -lm -L/usr/lib/R/lib -lR\n",
            "installing to /usr/local/lib/R/site-library/00LOCK-png/00new/png/libs\n",
            "** R\n",
            "** inst\n",
            "** byte-compile and prepare package for lazy loading\n",
            "** help\n",
            "*** installing help indices\n",
            "** building package indices\n",
            "** testing if installed package can be loaded from temporary location\n",
            "** checking absolute paths in shared objects and dynamic libraries\n",
            "** testing if installed package can be loaded from final location\n",
            "** testing if installed package keeps a record of temporary installation path\n",
            "* DONE (png)\n",
            "* installing *source* package ‘reticulate’ ...\n",
            "** package ‘reticulate’ successfully unpacked and MD5 sums checked\n",
            "** using staged installation\n",
            "** libs\n",
            "using C++ compiler: ‘g++ (Ubuntu 11.4.0-1ubuntu1~22.04) 11.4.0’\n",
            "g++ -std=gnu++17 -I\"/usr/share/R/include\" -DNDEBUG  -I'/usr/lib/R/site-library/Rcpp/include'     -fpic  -g -O2 -ffile-prefix-map=/build/r-base-avGvPq/r-base-4.4.1=. -fstack-protector-strong -Wformat -Werror=format-security -Wdate-time -D_FORTIFY_SOURCE=2   -c RcppExports.cpp -o RcppExports.o\n",
            "g++ -std=gnu++17 -I\"/usr/share/R/include\" -DNDEBUG  -I'/usr/lib/R/site-library/Rcpp/include'     -fpic  -g -O2 -ffile-prefix-map=/build/r-base-avGvPq/r-base-4.4.1=. -fstack-protector-strong -Wformat -Werror=format-security -Wdate-time -D_FORTIFY_SOURCE=2   -c event_loop.cpp -o event_loop.o\n",
            "g++ -std=gnu++17 -I\"/usr/share/R/include\" -DNDEBUG  -I'/usr/lib/R/site-library/Rcpp/include'     -fpic  -g -O2 -ffile-prefix-map=/build/r-base-avGvPq/r-base-4.4.1=. -fstack-protector-strong -Wformat -Werror=format-security -Wdate-time -D_FORTIFY_SOURCE=2   -c libpython.cpp -o libpython.o\n",
            "g++ -std=gnu++17 -I\"/usr/share/R/include\" -DNDEBUG  -I'/usr/lib/R/site-library/Rcpp/include'     -fpic  -g -O2 -ffile-prefix-map=/build/r-base-avGvPq/r-base-4.4.1=. -fstack-protector-strong -Wformat -Werror=format-security -Wdate-time -D_FORTIFY_SOURCE=2   -c output.cpp -o output.o\n",
            "g++ -std=gnu++17 -I\"/usr/share/R/include\" -DNDEBUG  -I'/usr/lib/R/site-library/Rcpp/include'     -fpic  -g -O2 -ffile-prefix-map=/build/r-base-avGvPq/r-base-4.4.1=. -fstack-protector-strong -Wformat -Werror=format-security -Wdate-time -D_FORTIFY_SOURCE=2   -c python.cpp -o python.o\n",
            "g++ -std=gnu++17 -I\"/usr/share/R/include\" -DNDEBUG  -I'/usr/lib/R/site-library/Rcpp/include'     -fpic  -g -O2 -ffile-prefix-map=/build/r-base-avGvPq/r-base-4.4.1=. -fstack-protector-strong -Wformat -Werror=format-security -Wdate-time -D_FORTIFY_SOURCE=2   -c readline.cpp -o readline.o\n",
            "g++ -std=gnu++17 -I\"/usr/share/R/include\" -DNDEBUG  -I'/usr/lib/R/site-library/Rcpp/include'     -fpic  -g -O2 -ffile-prefix-map=/build/r-base-avGvPq/r-base-4.4.1=. -fstack-protector-strong -Wformat -Werror=format-security -Wdate-time -D_FORTIFY_SOURCE=2   -c signals.cpp -o signals.o\n",
            "g++ -std=gnu++17 -shared -L/usr/lib/R/lib -Wl,-Bsymbolic-functions -flto=auto -ffat-lto-objects -flto=auto -Wl,-z,relro -o reticulate.so RcppExports.o event_loop.o libpython.o output.o python.o readline.o signals.o -L/usr/lib/R/lib -lR\n",
            "installing to /usr/local/lib/R/site-library/00LOCK-reticulate/00new/reticulate/libs\n",
            "** R\n",
            "** inst\n",
            "** byte-compile and prepare package for lazy loading\n",
            "** help\n",
            "*** installing help indices\n",
            "*** copying figures\n",
            "** building package indices\n",
            "** installing vignettes\n",
            "** testing if installed package can be loaded from temporary location\n",
            "** checking absolute paths in shared objects and dynamic libraries\n",
            "** testing if installed package can be loaded from final location\n",
            "** testing if installed package keeps a record of temporary installation path\n",
            "* DONE (reticulate)\n",
            "\n",
            "The downloaded source packages are in\n",
            "\t‘/tmp/RtmpiaKqQ7/downloaded_packages’\n",
            "> \n",
            "> \n",
            "\n",
            "R version 4.4.1 (2024-06-14) -- \"Race for Your Life\"\n",
            "Copyright (C) 2024 The R Foundation for Statistical Computing\n",
            "Platform: x86_64-pc-linux-gnu\n",
            "\n",
            "R is free software and comes with ABSOLUTELY NO WARRANTY.\n",
            "You are welcome to redistribute it under certain conditions.\n",
            "Type 'license()' or 'licence()' for distribution details.\n",
            "\n",
            "  Natural language support but running in an English locale\n",
            "\n",
            "R is a collaborative project with many contributors.\n",
            "Type 'contributors()' for more information and\n",
            "'citation()' on how to cite R or R packages in publications.\n",
            "\n",
            "Type 'demo()' for some demos, 'help()' for on-line help, or\n",
            "'help.start()' for an HTML browser interface to help.\n",
            "Type 'q()' to quit R.\n",
            "\n",
            "> install.packages('keras', repos='http://cran.us.r-project.org')\n",
            "Installing package into ‘/usr/local/lib/R/site-library’\n",
            "(as ‘lib’ is unspecified)\n",
            "also installing the dependencies ‘config’, ‘tfautograph’, ‘tensorflow’, ‘tfruns’, ‘zeallot’\n",
            "\n",
            "trying URL 'http://cran.us.r-project.org/src/contrib/config_0.3.2.tar.gz'\n",
            "Content type 'application/x-gzip' length 83483 bytes (81 KB)\n",
            "==================================================\n",
            "downloaded 81 KB\n",
            "\n",
            "trying URL 'http://cran.us.r-project.org/src/contrib/tfautograph_0.3.2.tar.gz'\n",
            "Content type 'application/x-gzip' length 47367 bytes (46 KB)\n",
            "==================================================\n",
            "downloaded 46 KB\n",
            "\n",
            "trying URL 'http://cran.us.r-project.org/src/contrib/tensorflow_2.16.0.tar.gz'\n",
            "Content type 'application/x-gzip' length 65093 bytes (63 KB)\n",
            "==================================================\n",
            "downloaded 63 KB\n",
            "\n",
            "trying URL 'http://cran.us.r-project.org/src/contrib/tfruns_1.5.3.tar.gz'\n",
            "Content type 'application/x-gzip' length 2010939 bytes (1.9 MB)\n",
            "==================================================\n",
            "downloaded 1.9 MB\n",
            "\n",
            "trying URL 'http://cran.us.r-project.org/src/contrib/zeallot_0.1.0.tar.gz'\n",
            "Content type 'application/x-gzip' length 32549 bytes (31 KB)\n",
            "==================================================\n",
            "downloaded 31 KB\n",
            "\n",
            "trying URL 'http://cran.us.r-project.org/src/contrib/keras_2.15.0.tar.gz'\n",
            "Content type 'application/x-gzip' length 3543818 bytes (3.4 MB)\n",
            "==================================================\n",
            "downloaded 3.4 MB\n",
            "\n",
            "* installing *source* package ‘config’ ...\n",
            "** package ‘config’ successfully unpacked and MD5 sums checked\n",
            "** using staged installation\n",
            "** R\n",
            "** inst\n",
            "** byte-compile and prepare package for lazy loading\n",
            "** help\n",
            "*** installing help indices\n",
            "*** copying figures\n",
            "** building package indices\n",
            "** installing vignettes\n",
            "** testing if installed package can be loaded from temporary location\n",
            "** testing if installed package can be loaded from final location\n",
            "** testing if installed package keeps a record of temporary installation path\n",
            "* DONE (config)\n",
            "* installing *source* package ‘tfautograph’ ...\n",
            "** package ‘tfautograph’ successfully unpacked and MD5 sums checked\n",
            "** using staged installation\n",
            "** R\n",
            "** byte-compile and prepare package for lazy loading\n",
            "** help\n",
            "*** installing help indices\n",
            "*** copying figures\n",
            "** building package indices\n",
            "** testing if installed package can be loaded from temporary location\n",
            "** testing if installed package can be loaded from final location\n",
            "** testing if installed package keeps a record of temporary installation path\n",
            "* DONE (tfautograph)\n",
            "* installing *source* package ‘zeallot’ ...\n",
            "** package ‘zeallot’ successfully unpacked and MD5 sums checked\n",
            "** using staged installation\n",
            "** R\n",
            "** inst\n",
            "** byte-compile and prepare package for lazy loading\n",
            "** help\n",
            "*** installing help indices\n",
            "** building package indices\n",
            "** installing vignettes\n",
            "** testing if installed package can be loaded from temporary location\n",
            "** testing if installed package can be loaded from final location\n",
            "** testing if installed package keeps a record of temporary installation path\n",
            "* DONE (zeallot)\n",
            "* installing *source* package ‘tfruns’ ...\n",
            "** package ‘tfruns’ successfully unpacked and MD5 sums checked\n",
            "** using staged installation\n",
            "** R\n",
            "** inst\n",
            "** byte-compile and prepare package for lazy loading\n",
            "** help\n",
            "*** installing help indices\n",
            "** building package indices\n",
            "** installing vignettes\n",
            "** testing if installed package can be loaded from temporary location\n",
            "** testing if installed package can be loaded from final location\n",
            "** testing if installed package keeps a record of temporary installation path\n",
            "* DONE (tfruns)\n",
            "* installing *source* package ‘tensorflow’ ...\n",
            "** package ‘tensorflow’ successfully unpacked and MD5 sums checked\n",
            "** using staged installation\n",
            "** R\n",
            "** byte-compile and prepare package for lazy loading\n",
            "** help\n",
            "*** installing help indices\n",
            "*** copying figures\n",
            "** building package indices\n",
            "** testing if installed package can be loaded from temporary location\n",
            "** testing if installed package can be loaded from final location\n",
            "** testing if installed package keeps a record of temporary installation path\n",
            "* DONE (tensorflow)\n",
            "* installing *source* package ‘keras’ ...\n",
            "** package ‘keras’ successfully unpacked and MD5 sums checked\n",
            "** using staged installation\n",
            "** R\n",
            "** inst\n",
            "** byte-compile and prepare package for lazy loading\n",
            "** help\n",
            "*** installing help indices\n",
            "** building package indices\n",
            "** installing vignettes\n",
            "** testing if installed package can be loaded from temporary location\n",
            "** testing if installed package can be loaded from final location\n",
            "** testing if installed package keeps a record of temporary installation path\n",
            "* DONE (keras)\n",
            "\n",
            "The downloaded source packages are in\n",
            "\t‘/tmp/Rtmp1ep2in/downloaded_packages’\n",
            "> \n",
            "> \n",
            "\n",
            "R version 4.4.1 (2024-06-14) -- \"Race for Your Life\"\n",
            "Copyright (C) 2024 The R Foundation for Statistical Computing\n",
            "Platform: x86_64-pc-linux-gnu\n",
            "\n",
            "R is free software and comes with ABSOLUTELY NO WARRANTY.\n",
            "You are welcome to redistribute it under certain conditions.\n",
            "Type 'license()' or 'licence()' for distribution details.\n",
            "\n",
            "  Natural language support but running in an English locale\n",
            "\n",
            "R is a collaborative project with many contributors.\n",
            "Type 'contributors()' for more information and\n",
            "'citation()' on how to cite R or R packages in publications.\n",
            "\n",
            "Type 'demo()' for some demos, 'help()' for on-line help, or\n",
            "'help.start()' for an HTML browser interface to help.\n",
            "Type 'q()' to quit R.\n",
            "\n",
            "> install.packages('tensorflow', repos='http://cran.us.r-project.org')\n",
            "Installing package into ‘/usr/local/lib/R/site-library’\n",
            "(as ‘lib’ is unspecified)\n",
            "trying URL 'http://cran.us.r-project.org/src/contrib/tensorflow_2.16.0.tar.gz'\n",
            "Content type 'application/x-gzip' length 65093 bytes (63 KB)\n",
            "==================================================\n",
            "downloaded 63 KB\n",
            "\n",
            "* installing *source* package ‘tensorflow’ ...\n",
            "** package ‘tensorflow’ successfully unpacked and MD5 sums checked\n",
            "** using staged installation\n",
            "** R\n",
            "** byte-compile and prepare package for lazy loading\n",
            "** help\n",
            "*** installing help indices\n",
            "*** copying figures\n",
            "** building package indices\n",
            "** testing if installed package can be loaded from temporary location\n",
            "** testing if installed package can be loaded from final location\n",
            "** testing if installed package keeps a record of temporary installation path\n",
            "* DONE (tensorflow)\n",
            "\n",
            "The downloaded source packages are in\n",
            "\t‘/tmp/RtmpkfmsFZ/downloaded_packages’\n",
            "> \n",
            "> \n"
          ]
        }
      ]
    },
    {
      "cell_type": "code",
      "source": [
        "# Install TensorFlow in the Python environment\n",
        "!pip install tensorflow"
      ],
      "metadata": {
        "colab": {
          "base_uri": "https://localhost:8080/"
        },
        "id": "o-PMsjSDcZjL",
        "outputId": "fe127414-0379-4439-f6f5-536b310774e3"
      },
      "execution_count": null,
      "outputs": [
        {
          "output_type": "stream",
          "name": "stdout",
          "text": [
            "Requirement already satisfied: tensorflow in /usr/local/lib/python3.10/dist-packages (2.17.0)\n",
            "Requirement already satisfied: absl-py>=1.0.0 in /usr/local/lib/python3.10/dist-packages (from tensorflow) (1.4.0)\n",
            "Requirement already satisfied: astunparse>=1.6.0 in /usr/local/lib/python3.10/dist-packages (from tensorflow) (1.6.3)\n",
            "Requirement already satisfied: flatbuffers>=24.3.25 in /usr/local/lib/python3.10/dist-packages (from tensorflow) (24.3.25)\n",
            "Requirement already satisfied: gast!=0.5.0,!=0.5.1,!=0.5.2,>=0.2.1 in /usr/local/lib/python3.10/dist-packages (from tensorflow) (0.6.0)\n",
            "Requirement already satisfied: google-pasta>=0.1.1 in /usr/local/lib/python3.10/dist-packages (from tensorflow) (0.2.0)\n",
            "Requirement already satisfied: h5py>=3.10.0 in /usr/local/lib/python3.10/dist-packages (from tensorflow) (3.11.0)\n",
            "Requirement already satisfied: libclang>=13.0.0 in /usr/local/lib/python3.10/dist-packages (from tensorflow) (18.1.1)\n",
            "Requirement already satisfied: ml-dtypes<0.5.0,>=0.3.1 in /usr/local/lib/python3.10/dist-packages (from tensorflow) (0.4.0)\n",
            "Requirement already satisfied: opt-einsum>=2.3.2 in /usr/local/lib/python3.10/dist-packages (from tensorflow) (3.3.0)\n",
            "Requirement already satisfied: packaging in /usr/local/lib/python3.10/dist-packages (from tensorflow) (24.1)\n",
            "Requirement already satisfied: protobuf!=4.21.0,!=4.21.1,!=4.21.2,!=4.21.3,!=4.21.4,!=4.21.5,<5.0.0dev,>=3.20.3 in /usr/local/lib/python3.10/dist-packages (from tensorflow) (3.20.3)\n",
            "Requirement already satisfied: requests<3,>=2.21.0 in /usr/local/lib/python3.10/dist-packages (from tensorflow) (2.32.3)\n",
            "Requirement already satisfied: setuptools in /usr/local/lib/python3.10/dist-packages (from tensorflow) (71.0.4)\n",
            "Requirement already satisfied: six>=1.12.0 in /usr/local/lib/python3.10/dist-packages (from tensorflow) (1.16.0)\n",
            "Requirement already satisfied: termcolor>=1.1.0 in /usr/local/lib/python3.10/dist-packages (from tensorflow) (2.4.0)\n",
            "Requirement already satisfied: typing-extensions>=3.6.6 in /usr/local/lib/python3.10/dist-packages (from tensorflow) (4.12.2)\n",
            "Requirement already satisfied: wrapt>=1.11.0 in /usr/local/lib/python3.10/dist-packages (from tensorflow) (1.16.0)\n",
            "Requirement already satisfied: grpcio<2.0,>=1.24.3 in /usr/local/lib/python3.10/dist-packages (from tensorflow) (1.64.1)\n",
            "Requirement already satisfied: tensorboard<2.18,>=2.17 in /usr/local/lib/python3.10/dist-packages (from tensorflow) (2.17.0)\n",
            "Requirement already satisfied: keras>=3.2.0 in /usr/local/lib/python3.10/dist-packages (from tensorflow) (3.4.1)\n",
            "Requirement already satisfied: tensorflow-io-gcs-filesystem>=0.23.1 in /usr/local/lib/python3.10/dist-packages (from tensorflow) (0.37.1)\n",
            "Requirement already satisfied: numpy<2.0.0,>=1.23.5 in /usr/local/lib/python3.10/dist-packages (from tensorflow) (1.26.4)\n",
            "Requirement already satisfied: wheel<1.0,>=0.23.0 in /usr/local/lib/python3.10/dist-packages (from astunparse>=1.6.0->tensorflow) (0.44.0)\n",
            "Requirement already satisfied: rich in /usr/local/lib/python3.10/dist-packages (from keras>=3.2.0->tensorflow) (13.7.1)\n",
            "Requirement already satisfied: namex in /usr/local/lib/python3.10/dist-packages (from keras>=3.2.0->tensorflow) (0.0.8)\n",
            "Requirement already satisfied: optree in /usr/local/lib/python3.10/dist-packages (from keras>=3.2.0->tensorflow) (0.12.1)\n",
            "Requirement already satisfied: charset-normalizer<4,>=2 in /usr/local/lib/python3.10/dist-packages (from requests<3,>=2.21.0->tensorflow) (3.3.2)\n",
            "Requirement already satisfied: idna<4,>=2.5 in /usr/local/lib/python3.10/dist-packages (from requests<3,>=2.21.0->tensorflow) (3.7)\n",
            "Requirement already satisfied: urllib3<3,>=1.21.1 in /usr/local/lib/python3.10/dist-packages (from requests<3,>=2.21.0->tensorflow) (2.0.7)\n",
            "Requirement already satisfied: certifi>=2017.4.17 in /usr/local/lib/python3.10/dist-packages (from requests<3,>=2.21.0->tensorflow) (2024.7.4)\n",
            "Requirement already satisfied: markdown>=2.6.8 in /usr/local/lib/python3.10/dist-packages (from tensorboard<2.18,>=2.17->tensorflow) (3.6)\n",
            "Requirement already satisfied: tensorboard-data-server<0.8.0,>=0.7.0 in /usr/local/lib/python3.10/dist-packages (from tensorboard<2.18,>=2.17->tensorflow) (0.7.2)\n",
            "Requirement already satisfied: werkzeug>=1.0.1 in /usr/local/lib/python3.10/dist-packages (from tensorboard<2.18,>=2.17->tensorflow) (3.0.3)\n",
            "Requirement already satisfied: MarkupSafe>=2.1.1 in /usr/local/lib/python3.10/dist-packages (from werkzeug>=1.0.1->tensorboard<2.18,>=2.17->tensorflow) (2.1.5)\n",
            "Requirement already satisfied: markdown-it-py>=2.2.0 in /usr/local/lib/python3.10/dist-packages (from rich->keras>=3.2.0->tensorflow) (3.0.0)\n",
            "Requirement already satisfied: pygments<3.0.0,>=2.13.0 in /usr/local/lib/python3.10/dist-packages (from rich->keras>=3.2.0->tensorflow) (2.16.1)\n",
            "Requirement already satisfied: mdurl~=0.1 in /usr/local/lib/python3.10/dist-packages (from markdown-it-py>=2.2.0->rich->keras>=3.2.0->tensorflow) (0.1.2)\n"
          ]
        }
      ]
    },
    {
      "cell_type": "markdown",
      "source": [
        "# **CHANGE THE RUN TYPE TO R ENVIRONMENT**"
      ],
      "metadata": {
        "id": "FkIg1gHUftrP"
      }
    },
    {
      "cell_type": "code",
      "source": [
        "# Install necessary system dependencies\n",
        "system(\"apt-get update\")\n",
        "system(\"apt-get install python3-pip python3-venv\")\n",
        "\n",
        "# Check Python version to ensure it's properly installed\n",
        "system(\"python3 --version\")"
      ],
      "metadata": {
        "id": "4wQ5oCSxht15"
      },
      "execution_count": null,
      "outputs": []
    },
    {
      "cell_type": "code",
      "source": [
        "# Load the reticulate library\n",
        "library(reticulate)\n",
        "\n",
        "# Point reticulate to the existing Python binary in Colab\n",
        "use_python(\"/usr/bin/python3\", required = TRUE)\n",
        "\n",
        "# Confirm the Python configuration\n",
        "py_config()"
      ],
      "metadata": {
        "colab": {
          "base_uri": "https://localhost:8080/",
          "height": 165
        },
        "id": "Dfzh-tWXh92z",
        "outputId": "54fe0ebb-3c68-49ca-86fa-c76bf1407d9d"
      },
      "execution_count": null,
      "outputs": [
        {
          "output_type": "display_data",
          "data": {
            "text/plain": [
              "python:         /usr/bin/python3\n",
              "libpython:      /usr/lib/python3.10/config-3.10-x86_64-linux-gnu/libpython3.10.so\n",
              "pythonhome:     //usr://usr\n",
              "version:        3.10.12 (main, Jul 29 2024, 16:56:48) [GCC 11.4.0]\n",
              "numpy:          /usr/local/lib/python3.10/dist-packages/numpy\n",
              "numpy_version:  1.26.4\n",
              "\n",
              "NOTE: Python version was forced by use_python() function"
            ]
          },
          "metadata": {}
        }
      ]
    },
    {
      "cell_type": "code",
      "source": [
        "# Install TensorFlow directly in the existing Python environment\n",
        "py_install(\"tensorflow==2.9.0\", pip = TRUE)\n",
        "\n",
        "# Verify the TensorFlow installation\n",
        "library(tensorflow)\n",
        "tensorflow::tf_config()"
      ],
      "metadata": {
        "colab": {
          "base_uri": "https://localhost:8080/",
          "height": 275
        },
        "id": "-fF8WHmliB-H",
        "outputId": "b21ebab9-47fa-464d-e6df-16804f2c8eff"
      },
      "execution_count": null,
      "outputs": [
        {
          "output_type": "stream",
          "name": "stdout",
          "text": [
            "Using Python: /usr/local/bin/python\n",
            "Creating virtual environment '~/.virtualenvs/r-reticulate' ... \n"
          ]
        },
        {
          "output_type": "stream",
          "name": "stderr",
          "text": [
            "+ /usr/local/bin/python -m venv /root/.virtualenvs/r-reticulate\n",
            "\n"
          ]
        },
        {
          "output_type": "stream",
          "name": "stdout",
          "text": [
            "Done!\n",
            "Installing packages: pip, wheel, setuptools\n"
          ]
        },
        {
          "output_type": "stream",
          "name": "stderr",
          "text": [
            "+ /root/.virtualenvs/r-reticulate/bin/python -m pip install --upgrade pip wheel setuptools\n",
            "\n"
          ]
        },
        {
          "output_type": "stream",
          "name": "stdout",
          "text": [
            "Virtual environment '~/.virtualenvs/r-reticulate' successfully created.\n",
            "Using virtual environment '~/.virtualenvs/r-reticulate' ...\n"
          ]
        },
        {
          "output_type": "stream",
          "name": "stderr",
          "text": [
            "+ /root/.virtualenvs/r-reticulate/bin/python -m pip install --upgrade --no-user 'tensorflow==2.9.0'\n",
            "\n"
          ]
        },
        {
          "output_type": "display_data",
          "data": {
            "text/plain": [
              "TensorFlow v2.17.0 ()\n",
              "Python v3.10 (/usr/bin/python3)"
            ]
          },
          "metadata": {}
        }
      ]
    },
    {
      "cell_type": "code",
      "source": [
        "# Install the necessary packages\n",
        "install.packages(\"reticulate\")\n",
        "install.packages(\"keras\")\n",
        "install.packages(\"tensorflow\")\n",
        "\n",
        "# Load the libraries\n",
        "library(reticulate)\n",
        "library(keras)\n",
        "library(tensorflow)\n",
        "\n",
        "# Use existing Python environment\n",
        "use_python(\"/usr/bin/python3\", required = TRUE)\n",
        "\n",
        "# Install TensorFlow (you can specify the version if needed)\n",
        "install_tensorflow(version = \"2.9.0\")\n",
        "\n",
        "# Verify the TensorFlow installation\n",
        "tensorflow::tf_config()\n",
        "\n",
        "# Load the Fashion MNIST dataset\n",
        "fashion_mnist <- dataset_fashion_mnist()\n",
        "c(X_train, y_train) %<-% fashion_mnist$train\n",
        "c(X_test, y_test) %<-% fashion_mnist$test\n",
        "\n",
        "# Preprocess the data\n",
        "X_train <- X_train / 255.0\n",
        "X_test <- X_test / 255.0\n",
        "X_train <- array_reshape(X_train, c(nrow(X_train), 28, 28, 1))\n",
        "X_test <- array_reshape(X_test, c(nrow(X_test), 28, 28, 1))\n",
        "\n",
        "# Convert target labels to categorical format\n",
        "num_classes <- 10\n",
        "y_train <- keras::to_categorical(y_train, num_classes)\n",
        "y_test <- keras::to_categorical(y_test, num_classes)\n",
        "\n",
        "# Define the Convolutional Neural Network (CNN) model\n",
        "model <- keras_model_sequential() %>%\n",
        "  layer_conv_2d(filters = 32, kernel_size = c(3, 3), activation = \"relu\", input_shape = c(28, 28, 1)) %>%\n",
        "  layer_max_pooling_2d(pool_size = c(2, 2)) %>%\n",
        "  layer_conv_2d(filters = 64, kernel_size = c(3, 3), activation = \"relu\") %>%\n",
        "  layer_max_pooling_2d(pool_size = c(2, 2)) %>%\n",
        "  layer_conv_2d(filters = 128, kernel_size = c(3, 3), activation = \"relu\") %>%\n",
        "  layer_flatten() %>%\n",
        "  layer_dense(units = 128, activation = \"relu\") %>%\n",
        "  layer_dense(units = num_classes, activation = \"softmax\")\n",
        "\n",
        "# Compile the model\n",
        "model %>% compile(\n",
        "  optimizer = optimizer_adam(learning_rate = 0.001),\n",
        "  loss = \"categorical_crossentropy\",\n",
        "  metrics = \"accuracy\"\n",
        ")\n",
        "\n",
        "# Train the model\n",
        "history <- model %>% fit(\n",
        "  X_train, y_train,\n",
        "  epochs = 10,\n",
        "  batch_size = 64,\n",
        "  validation_data = list(X_test, y_test)\n",
        ")\n",
        "\n",
        "# Evaluate the model\n",
        "eval_results <- model %>% evaluate(X_test, y_test)\n",
        "cat(\"Test loss:\", eval_results[[1]], \"\\n\")\n",
        "cat(\"Test accuracy:\", eval_results[[2]], \"\\n\")\n",
        "\n",
        "# Make predictions and plot some examples\n",
        "image_indices <- c(1, 2)  # Choose some image indices to predict\n",
        "for (index in image_indices) {\n",
        "  image <- X_test[index,,,]\n",
        "  prediction <- model %>% predict(array_reshape(image, c(1, 28, 28, 1)))\n",
        "  predicted_class <- which.max(prediction) - 1\n",
        "  cat(\"Predicted class:\", predicted_class, \"\\n\")\n",
        "  plot(as.raster(image[,,1], max = 1), main = paste(\"Predicted Class:\", predicted_class))\n",
        "}"
      ],
      "metadata": {
        "colab": {
          "base_uri": "https://localhost:8080/",
          "height": 1000
        },
        "id": "2THCfevGi1io",
        "outputId": "a81fcba1-0aac-4721-a5dc-5120464185f9"
      },
      "execution_count": null,
      "outputs": [
        {
          "output_type": "stream",
          "name": "stderr",
          "text": [
            "Installing package into ‘/usr/local/lib/R/site-library’\n",
            "(as ‘lib’ is unspecified)\n",
            "\n",
            "Installing package into ‘/usr/local/lib/R/site-library’\n",
            "(as ‘lib’ is unspecified)\n",
            "\n",
            "Installing package into ‘/usr/local/lib/R/site-library’\n",
            "(as ‘lib’ is unspecified)\n",
            "\n"
          ]
        },
        {
          "output_type": "stream",
          "name": "stdout",
          "text": [
            "Virtual environment 'r-tensorflow' removed.\n",
            "Using Python: /usr/local/bin/python\n",
            "Creating virtual environment 'r-tensorflow' ... \n"
          ]
        },
        {
          "output_type": "stream",
          "name": "stderr",
          "text": [
            "+ /usr/local/bin/python -m venv /root/.virtualenvs/r-tensorflow\n",
            "\n"
          ]
        },
        {
          "output_type": "stream",
          "name": "stdout",
          "text": [
            "Done!\n",
            "Installing packages: pip, wheel, setuptools\n"
          ]
        },
        {
          "output_type": "stream",
          "name": "stderr",
          "text": [
            "+ /root/.virtualenvs/r-tensorflow/bin/python -m pip install --upgrade pip wheel setuptools\n",
            "\n"
          ]
        },
        {
          "output_type": "stream",
          "name": "stdout",
          "text": [
            "Virtual environment 'r-tensorflow' successfully created.\n",
            "Using virtual environment 'r-tensorflow' ...\n"
          ]
        },
        {
          "output_type": "stream",
          "name": "stderr",
          "text": [
            "+ /root/.virtualenvs/r-tensorflow/bin/python -m pip install --upgrade --no-user 'tensorflow==2.9.0.*'\n",
            "\n"
          ]
        },
        {
          "output_type": "stream",
          "name": "stdout",
          "text": [
            "\n",
            "Installation complete.\n",
            "\n"
          ]
        },
        {
          "output_type": "display_data",
          "data": {
            "text/plain": [
              "TensorFlow v2.17.0 (/usr/local/lib/python3.10/dist-packages/tensorflow)\n",
              "Python v3.10 (/usr/bin/python3)"
            ]
          },
          "metadata": {}
        },
        {
          "output_type": "error",
          "ename": "ERROR",
          "evalue": "Error in (structure(function (x, num_classes = NULL) : unused arguments (y = c(9, 0, 0, 3, 0, 2, 7, 2, 5, 5, 0, 9, 5, 5, 7, 9, 1, 0, 6, 4, 3, 1, 4, 8, 4, 3, 0, 2, 4, 4, 5, 3, 6, 6, 0, 8, 5, 2, 1, 6, 6, 7, 9, 5, 9, 2, 7, 3, 0, 3, 3, 3, 7, 2, 2, 6, 6, 8, 3, 3, 5, 0, 5, 5, 0, 2, 0, 0, 4, 1, 3, 1, 6, 3, 1, 4, 4, 6, 1, 9, 1, 3, 5, 7, 9, 7, 1, 7, 9, 9, 9, 3, 2, 9, 3, 6, 4, 1, 1, 8, 8, 0, 1, 1, 6, 8, 1, 9, 7, 8, 8, 9, 6, 6, 3, 1, 5, 4, 6, 7, 5, 5, 9, 2, 2, 2, 7, 6, 4, 1, 8, 7, 7, 5, 4, 2, 9, 1, 7, 4, 6, 9, 7, 1, 8, 7, 1, 2, 8, 0, 9, 1, 8, 7, 0, 5, 8, 6, 7, 2, 0, 8, \n7, 1, 6, 2, 1, 9, 6, 0, 1, 0, 5, 5, 1, 7, 0, 5, 8, 4, 0, 4, 0, 6, 6, 4, 0, 0, 4, 7, 3, 0, 5, 8, 4, 1, 1, 2, 9, 2, 8, 5, 0, 6, 3, 4, 6, 0, 9, 1, 7, 3, 8, 5, 8, 3, 8, 5, 2, 0, 8, 7, 0, 3, 5, 0, 6, 5, 2, 7, 5, 2, 6, 8, 2, 6, 8, 0, 4, 4, 4, 4, 4, 1, 5, 6, 5, 3, 3, 7, 3, 3, 6, 2, 8, 4, 6, 5, 9, 3, 2, 3, 2, 4, 4, 8, 2, 5, 3, 0, 7, 2, 0, 2, 5, 7, 2, 3, 1, 7, 6, 2, 9, 1, 9, 1, 1, 8, 7, 8, 4, 2, 6, 6, 7, 9, 4, 6, 1, 9, 5, 6, 0, 5, 0, 1, 6, 1, 1, 6, 7, 4, 4, 8, 6, 4, 6, 9, 3, 7, 5, 0, 8, 3, 4, 0, 3, 3, 2, \n0, 1, 0, 3, 8, 3, 9, 1, 9, 0, 4, 7, 7, 8, 5, 6, 5, 6, 8, 2, 5, 2, 3, 1, 6, 0, 7, 8, 7, 8, 1, 9, 6, 4, 5, 7, 1, 7, 6, 6, 7, 3, 5, 8, 7, 3, 3, 9, 0, 3, 1, 6, 4, 7, 0, 5, 1, 5, 4, 4, 5, 9, 1, 0, 5, 8, 3, 4, 4, 2, 4, 2, 5, 6, 7, 2, 2, 5, 3, 8, 8, 6, 8, 4, 4, 1, 0, 2, 7, 1, 1, 8, 8, 2, 7, 9, 7, 4, 1, 2, 0, 8, 9, 1, 4, 9, 5, 6, 7, 0, 3, 2, 0, 4, 1, 0, 0, 8, 7, 0, 2, 9, 9, 1, 3, 8, 3, 1, 4, 8, 5, 1, 8, 2, 4, 4, 9, 5, 5, 4, 5, 6, 3, 7, 4, 9, 5, 8, 9, 3, 9, 6, 4, 7, 2, 2, 6, 4, 8, 3, 0, 2, 8, 9, 0, 8, 6, \n3, 9, 1, 6, 3, 2, 6, 1, 0, 2, 6, 2, 3, 3, 9, 1, 7, 9, 1, 1, 0, 1, 7, 0, 8, 5, 0, 6, 0, 1, 6, 6, 8, 7, 0, 9, 9, 9, 7, 4, 3, 9, 5, 9, 1, 4, 1, 6, 2, 2, 2, 7, 7, 6, 3, 7, 5, 8, 6, 4, 8, 4, 7, 8, 6, 5, 9, 9, 0, 0, 2, 4, 3, 7, 9, 3, 1, 9, 2, 7, 5, 5, 4, 8, 2, 7, 8, 1, 2, 6, 6, 8, 1, 9, 6, 0, 0, 5, 9, 3, 3, 7, 6, 1, 0, 0, 6, 4, 7, 5, 9, 7, 9, 3, 8, 8, 4, 8, 5, 4, 2, 2, 7, 7, 5, 8, 4, 6, 9, 4, 3, 7, 8, 7, 8, 3, 7, 8, 4, 7, 7, 2, 2, 0, 0, 0, 3, 9, 1, 0, 9, 8, 4, 3, 9, 9, 9, 8, 8, 5, 4, 5, 4, 9, 8, 8, 0, \n9, 2, 0, 7, 3, 7, 9, 3, 8, 4, 3, 7, 8, 1, 4, 0, 7, 9, 8, 5, 5, 2, 1, 3, 4, 6, 7, 7, 5, 9, 9, 7, 8, 2, 7, 4, 7, 0, 3, 5, 1, 1, 5, 5, 2, 8, 3, 5, 9, 0, 7, 3, 0, 0, 7, 1, 9, 4, 8, 9, 1, 8, 3, 4, 7, 7, 7, 1, 4, 0, 4, 5, 8, 8, 6, 5, 7, 1, 0, 2, 4, 9, 0, 9, 8, 6, 2, 8, 1, 4, 1, 1, 2, 3, 3, 8, 9, 5, 1, 6, 4, 5, 9, 6, 2, 8, 8, 7, 0, 1, 6, 5, 5, 6, 5, 4, 6, 0, 6, 1, 1, 5, 7, 6, 5, 4, 0, 6, 0, 7, 2, 8, 9, 1, 6, 7, 1, 9, 8, 3, 5, 7, 1, 1, 9, 0, 6, 4, 8, 0, 9, 5, 0, 0, 1, 8, 7, 6, 7, 9, 0, 3, 0, 1, 3, 8, 0, \n0, 1, 7, 4, 7, 3, 7, 0, 6, 0, 2, 3, 4, 5, 9, 5, 2, 8, 7, 0, 1, 4, 1, 8, 3, 2, 7, 5, 0, 9, 6, 6, 9, 3, 1, 1, 9, 9, 3, 9, 7, 3, 1, 9, 1, 6, 3, 0, 4, 8, 0, 6, 6, 2, 9, 1, 9, 8, 3, 4, 7, 2, 0, 0, 8, 6, 9, 1, 2, 5, 2, 8, 5, 6, 7, 0, 6, 8, 7, 1, 0, 3, 4, 7, 5, 2, 5, 1, 1, 5, 7, 5, 1, 4, 9, 6, 7, 5, 7, 3, 8, 2, 9, 4, 2, 5, 5, 7, 4, 2, 6, 9, 0, 5, 3, 6, 9, 5, 3, 6, 0, 3, 5, 7, 1, 2, 5, 7, 8, 1, 6, 3, 9, 7, 7, 0, 4, 0, 8, 7, 6, 9, 0, 2, 7, 6, 0, 4, 7, 4, 1, 2, 6, 7, 8, 2, 5, 6, 0, 2, 9, 8, 5, 4, 5, 7, 3, \n3, 9, 8, 1, 2, 2, 6, 1, 0, 5, 5, 9, 6, 8, 3, 5, 0, 6, 8, 1, 1, 9, 1, 1, 4, 2, 7, 1, 5, 3, 4, 9, 7, 8, 0, 4, 8, 9, 1, 9, 3, 3, 3, 9, 0, 9, 1, 2, 5, 4, 2, 8, 3, 8, 9, 1, 3, 2, 7, 0, 4, 5, 8, 9, 2, 9, 3, 3, 8, 1, 7, 2, 7, 2, 0, 2, 0, 6, 7, 5, 3, 6, 9, 1, 2, 5, 8, 0, 5, 9, 6, 9, 9, 4, 6, 6, 3, 9, 8, 6, 1, 0, 4, 2, 6, 1, 0, 0, 7, 7, 2, 3, 2, 0, 5, 6, 4, 9, 3, 6, 8, 8, 6, 3, 8, 2, 7, 2, 4, 7, 9, 2, 3, 3, 9, 1, 6, 3, 8, 7, 2, 7, 1, 4, 1, 6, 2, 6, 8, 1, 6, 5, 9, 3, 7, 4, 5, 5, 0, 6, 3, 0, 8, 4, 1, 9, 9, \n7, 6, 8, 1, 7, 0, 0, 1, 6, 9, 2, 4, 2, 4, 2, 7, 5, 3, 6, 8, 4, 9, 7, 5, 2, 8, 3, 5, 1, 4, 3, 7, 7, 2, 1, 1, 6, 8, 0, 1, 7, 9, 2, 4, 5, 7, 2, 1, 7, 7, 2, 2, 6, 5, 0, 8, 7, 8, 5, 5, 7, 1, 3, 5, 0, 2, 2, 8, 9, 6, 8, 5, 6, 9, 5, 7, 7, 9, 4, 1, 2, 2, 4, 7, 8, 3, 5, 6, 2, 6, 0, 9, 9, 2, 9, 5, 2, 2, 4, 2, 0, 7, 6, 2, 4, 5, 3, 4, 4, 4, 1, 2, 1, 6, 8, 2, 3, 5, 7, 4, 3, 5, 1, 6, 0, 5, 3, 3, 2, 4, 9, 1, 8, 7, 5, 9, 4, 0, 7, 0, 3, 9, 2, 5, 0, 7, 5, 0, 4, 5, 5, 3, 4, 8, 4, 2, 4, 9, 1, 8, 4, 0, 3, 0, 4, 0, 4, \n9, 1, 8, 8, 1, 9, 5, 4, 5, 4, 9, 4, 6, 5, 2, 6, 5, 1, 7, 6, 8, 3, 6, 6, 4, 3, 8, 2, 5, 8, 3, 5, 4, 1, 1, 6, 3, 5, 3, 9, 2, 2, 6, 8, 6, 8, 8, 3, 2, 2, 8, 8, 7, 4, 9, 2, 1, 6, 2, 0, 6, 7, 2, 1, 4, 0, 1, 3, 1, 3, 8, 7, 5, 2, 4, 3, 5, 4, 2, 0, 7, 1, 8, 7, 6, 9, 9, 6, 6, 0, 4, 7, 4, 0, 4, 5, 5, 2, 5, 0, 5, 4, 2, 5, 3, 8, 7, 6, 5, 2, 7, 2, 5, 9, 3, 7, 7, 1, 3, 3, 7, 2, 7, 4, 5, 2, 5, 5, 3, 0, 3, 3, 1, 4, 9, 5, 9, 8, 3, 4, 6, 6, 0, 7, 8, 5, 7, 7, 0, 9, 3, 1, 3, 4, 8, 9, 5, 8, 0, 5, 7, 2, 3, 6, 6, 3, 5, \n2, 1, 1, 7, 1, 0, 1, 7, 3, 9, 1, 1, 3, 3, 6, 1, 1, 2, 0, 7, 1, 9, 6, 6, 5, 8, 8, 0, 0, 8, 9, 9, 4, 9, 8, 2, 1, 1, 0, 4, 5, 7, 8, 1, 3, 6, 3, 2, 9, 0, 1, 3, 8, 4, 9, 7, 1, 9, 9, 3, 1, 3, 0, 3, 6, 9, 9, 1, 1, 5, 2, 1, 7, 9, 5, 9, 1, 5, 9, 4, 8, 7, 7, 0, 7, 8, 9, 6, 2, 7, 2, 0, 0, 9, 4, 6, 2, 2, 8, 2, 7, 0, 3, 4, 6, 0, 2, 1, 2, 8, 0, 7, 3, 3, 8, 9, 8, 2, 9, 4, 8, 6, 3, 7, 0, 5, 8, 1, 6, 7, 8, 2, 8, 1, 7, 2, 0, 8, 3, 9, 1, 9, 0, 2, 6, 1, 8, 6, 5, 0, 4, 2, 2, 2, 2, 3, 3, 4, 1, 9, 5, 9, 4, 6, 8, 9, 3, \n1, 2, 3, 9, 8, 1, 5, 1, 8, 3, 4, 1, 1, 7, 4, 1, 0, 0, 3, 6, 9, 1, 6, 8, 4, 7, 4, 5, 3, 4, 3, 7, 7, 0, 6, 9, 7, 2, 1, 3, 9, 1, 0, 1, 8, 1, 9, 8, 9, 3, 4, 1, 4, 6, 9, 7, 2, 6, 4, 1, 6, 9, 0, 5, 4, 7, 0, 6, 5, 5, 7, 7, 0, 9, 6, 9, 5, 8, 1, 3, 6, 7, 9, 0, 3, 5, 1, 2, 1, 7, 3, 6, 4, 9, 8, 2, 1, 3, 8, 3, 4, 3, 4, 9, 5, 4, 5, 3, 1, 8, 7, 8, 9, 2, 6, 4, 5, 7, 5, 4, 1, 5, 3, 8, 2, 6, 0, 5, 2, 6, 5, 6, 3, 5, 2, 0, 5, 1, 3, 2, 1, 8, 9, 2, 0, 4, 7, 3, 6, 2, 0, 7, 8, 6, 9, 2, 0, 1, 2, 4, 3, 7, 3, 4, 8, 6, 7, \n5, 9, 2, 5, 6, 0, 4, 9, 6, 5, 9, 0, 9, 8, 0, 9, 5, 6, 0, 2, 9, 4, 2, 0, 2, 5, 1, 8, 9, 0, 6, 6, 2, 2, 1, 9, 7, 7, 7, 1, 7, 8, 8, 8, 4, 0, 1, 1, 5, 2, 2, 5, 0, 4, 5, 5, 1, 9, 1, 7, 2, 7, 3, 0, 7, 0, 9, 7, 5, 1, 3, 5, 6, 5, 4, 0, 7, 8, 4, 9, 0, 2, 3, 1, 7, 4, 2, 9, 9, 3, 1, 2, 7, 5, 9, 8, 2, 0, 7, 2, 6, 2, 4, 6, 5, 3, 6, 4, 4, 7, 0, 9, 7, 3, 2, 5, 3, 3, 0, 2, 6, 2, 7, 8, 0, 8, 1, 6, 7, 3, 8, 2, 8, 1, 7, 4, 2, 6, 1, 0, 8, 1, 3, 1, 6, 1, 6, 6, 8, 4, 8, 3, 5, 1, 9, 3, 8, 0, 5, 8, 6, 1, 2, 7, 1, 3, 5, \n8, 4, 7, 1, 7, 3, 8, 9, 4, 2, 3, 8, 3, 6, 8, 9, 6, 2, 4, 2, 8, 1, 6, 7, 1, 8, 2, 3, 0, 1, 7, 5, 1, 9, 4, 3, 1, 3, 6, 9, 4, 6, 0, 5, 1, 4, 4, 9, 7, 4, 0, 4, 3, 0, 4, 8, 5, 9, 5, 0, 3, 0, 2, 0, 8, 9, 2, 1, 3, 9, 4, 0, 1, 5, 9, 2, 7, 1, 2, 6, 6, 4, 1, 4, 6, 4, 6, 2, 3, 2, 8, 7, 9, 5, 5, 7, 8, 8, 3, 4, 0, 1, 7, 4, 3, 3, 0, 6, 9, 2, 2, 4, 7, 6, 3, 8, 6, 2, 1, 0, 9, 4, 0, 6, 7, 1, 1, 3, 0, 1, 8, 7, 6, 3, 0, 5, 5, 3, 3, 0, 8, 4, 3, 5, 5, 6, 1, 4, 5, 7, 2, 1, 5, 5, 3, 2, 0, 9, 5, 4, 0, 9, 3, 4, 0, 4, 3, \n3, 0, 2, 7, 2, 1, 2, 2, 6, 2, 1, 1, 5, 9, 0, 3, 4, 1, 1, 7, 1, 4, 7, 0, 0, 9, 2, 3, 7, 6, 8, 9, 0, 6, 1, 2, 6, 8, 7, 8, 4, 8, 1, 7, 3, 2, 1, 0, 6, 6, 3, 3, 9, 1, 8, 8, 6, 2, 9, 4, 5, 5, 8, 1, 7, 3, 7, 4, 7, 8, 6, 1, 0, 2, 4, 4, 4, 6, 8, 1, 2, 1, 6, 8, 1, 3, 9, 1, 1, 3, 6, 3, 7, 2, 6, 9, 7, 4, 4, 1, 0, 6, 8, 7, 3, 1, 6, 8, 8, 3, 2, 8, 7, 4, 7, 5, 9, 7, 7, 3, 0, 3, 9, 0, 1, 8, 9, 1, 4, 3, 1, 5, 8, 3, 0, 4, 9, 0, 6, 6, 9, 0, 3, 5, 0, 4, 3, 2, 1, 0, 6, 7, 0, 6, 9, 7, 9, 5, 9, 1, 9, 5, 5, 2, 6, 1, 2, \n4, 0, 5, 3, 3, 9, 4, 2, 5, 5, 1, 1, 5, 5, 3, 4, 3, 0, 4, 6, 3, 2, 7, 9, 7, 3, 3, 3, 4, 5, 0, 8, 9, 4, 0, 8, 5, 1, 2, 0, 1, 0, 5, 7, 1, 7, 8, 7, 1, 5, 7, 2, 7, 1, 1, 8, 0, 5, 4, 5, 8, 6, 4, 4, 2, 5, 2, 6, 8, 0, 4, 3, 3, 5, 4, 3, 6, 0, 9, 8, 3, 2, 3, 3, 2, 7, 4, 0, 1, 5, 0, 8, 4, 0, 5, 0, 2, 8, 0, 5, 6, 2, 9, 4, 0, 1, 0, 2, 2, 9, 1, 3, 7, 6, 4, 5, 9, 7, 4, 5, 6, 2, 8, 3, 3, 5, 0, 5, 7, 4, 7, 4, 9, 6, 6, 6, 7, 1, 0, 1, 8, 0, 8, 2, 7, 3, 0, 3, 5, 5, 2, 5, 4, 5, 8, 2, 3, 4, 9, 6, 4, 5, 4, 6, 5, 8, 3, \n3, 4, 8, 4, 4, 2, 8, 6, 7, 7, 8, 6, 5, 4, 7, 7, 5, 3, 1, 4, 4, 8, 5, 0, 3, 5, 0, 9, 1, 4, 9, 9, 1, 5, 4, 5, 9, 8, 3, 4, 1, 8, 1, 3, 7, 4, 9, 5, 2, 5, 4, 5, 9, 9, 8, 9, 9, 1, 4, 9, 6, 5, 2, 2, 1, 8, 7, 7, 4, 1, 7, 7, 2, 3, 5, 2, 3, 5, 8, 6, 7, 4, 0, 4, 2, 3, 2, 7, 9, 8, 1, 5, 1, 8, 0, 2, 3, 5, 8, 4, 6, 0, 8, 3, 4, 9, 7, 1, 7, 9, 8, 6, 7, 4, 5, 0, 9, 1, 2, 6, 2, 0, 8, 3, 2, 3, 3, 7, 4, 4, 2, 7, 5, 5, 7, 6, 1, 9, 4, 0, 4, 7, 1, 9, 4, 3, 6, 1, 7, 2, 6, 1, 4, 9, 0, 6, 8, 2, 6, 8, 6, 3, 5, 6, 1, 7, 5, \n9, 3, 1, 1, 9, 6, 7, 5, 9, 1, 4, 2, 8, 4, 5, 1, 1, 1, 4, 7, 2, 9, 9, 7, 1, 9, 4, 3, 0, 8, 1, 0, 8, 6, 1, 2, 8, 3, 4, 5, 0, 6, 4, 8, 5, 0, 6, 4, 4, 6,\n",
          "traceback": [
            "Error in (structure(function (x, num_classes = NULL) : unused arguments (y = c(9, 0, 0, 3, 0, 2, 7, 2, 5, 5, 0, 9, 5, 5, 7, 9, 1, 0, 6, 4, 3, 1, 4, 8, 4, 3, 0, 2, 4, 4, 5, 3, 6, 6, 0, 8, 5, 2, 1, 6, 6, 7, 9, 5, 9, 2, 7, 3, 0, 3, 3, 3, 7, 2, 2, 6, 6, 8, 3, 3, 5, 0, 5, 5, 0, 2, 0, 0, 4, 1, 3, 1, 6, 3, 1, 4, 4, 6, 1, 9, 1, 3, 5, 7, 9, 7, 1, 7, 9, 9, 9, 3, 2, 9, 3, 6, 4, 1, 1, 8, 8, 0, 1, 1, 6, 8, 1, 9, 7, 8, 8, 9, 6, 6, 3, 1, 5, 4, 6, 7, 5, 5, 9, 2, 2, 2, 7, 6, 4, 1, 8, 7, 7, 5, 4, 2, 9, 1, 7, 4, 6, 9, 7, 1, 8, 7, 1, 2, 8, 0, 9, 1, 8, 7, 0, 5, 8, 6, 7, 2, 0, 8, \n7, 1, 6, 2, 1, 9, 6, 0, 1, 0, 5, 5, 1, 7, 0, 5, 8, 4, 0, 4, 0, 6, 6, 4, 0, 0, 4, 7, 3, 0, 5, 8, 4, 1, 1, 2, 9, 2, 8, 5, 0, 6, 3, 4, 6, 0, 9, 1, 7, 3, 8, 5, 8, 3, 8, 5, 2, 0, 8, 7, 0, 3, 5, 0, 6, 5, 2, 7, 5, 2, 6, 8, 2, 6, 8, 0, 4, 4, 4, 4, 4, 1, 5, 6, 5, 3, 3, 7, 3, 3, 6, 2, 8, 4, 6, 5, 9, 3, 2, 3, 2, 4, 4, 8, 2, 5, 3, 0, 7, 2, 0, 2, 5, 7, 2, 3, 1, 7, 6, 2, 9, 1, 9, 1, 1, 8, 7, 8, 4, 2, 6, 6, 7, 9, 4, 6, 1, 9, 5, 6, 0, 5, 0, 1, 6, 1, 1, 6, 7, 4, 4, 8, 6, 4, 6, 9, 3, 7, 5, 0, 8, 3, 4, 0, 3, 3, 2, \n0, 1, 0, 3, 8, 3, 9, 1, 9, 0, 4, 7, 7, 8, 5, 6, 5, 6, 8, 2, 5, 2, 3, 1, 6, 0, 7, 8, 7, 8, 1, 9, 6, 4, 5, 7, 1, 7, 6, 6, 7, 3, 5, 8, 7, 3, 3, 9, 0, 3, 1, 6, 4, 7, 0, 5, 1, 5, 4, 4, 5, 9, 1, 0, 5, 8, 3, 4, 4, 2, 4, 2, 5, 6, 7, 2, 2, 5, 3, 8, 8, 6, 8, 4, 4, 1, 0, 2, 7, 1, 1, 8, 8, 2, 7, 9, 7, 4, 1, 2, 0, 8, 9, 1, 4, 9, 5, 6, 7, 0, 3, 2, 0, 4, 1, 0, 0, 8, 7, 0, 2, 9, 9, 1, 3, 8, 3, 1, 4, 8, 5, 1, 8, 2, 4, 4, 9, 5, 5, 4, 5, 6, 3, 7, 4, 9, 5, 8, 9, 3, 9, 6, 4, 7, 2, 2, 6, 4, 8, 3, 0, 2, 8, 9, 0, 8, 6, \n3, 9, 1, 6, 3, 2, 6, 1, 0, 2, 6, 2, 3, 3, 9, 1, 7, 9, 1, 1, 0, 1, 7, 0, 8, 5, 0, 6, 0, 1, 6, 6, 8, 7, 0, 9, 9, 9, 7, 4, 3, 9, 5, 9, 1, 4, 1, 6, 2, 2, 2, 7, 7, 6, 3, 7, 5, 8, 6, 4, 8, 4, 7, 8, 6, 5, 9, 9, 0, 0, 2, 4, 3, 7, 9, 3, 1, 9, 2, 7, 5, 5, 4, 8, 2, 7, 8, 1, 2, 6, 6, 8, 1, 9, 6, 0, 0, 5, 9, 3, 3, 7, 6, 1, 0, 0, 6, 4, 7, 5, 9, 7, 9, 3, 8, 8, 4, 8, 5, 4, 2, 2, 7, 7, 5, 8, 4, 6, 9, 4, 3, 7, 8, 7, 8, 3, 7, 8, 4, 7, 7, 2, 2, 0, 0, 0, 3, 9, 1, 0, 9, 8, 4, 3, 9, 9, 9, 8, 8, 5, 4, 5, 4, 9, 8, 8, 0, \n9, 2, 0, 7, 3, 7, 9, 3, 8, 4, 3, 7, 8, 1, 4, 0, 7, 9, 8, 5, 5, 2, 1, 3, 4, 6, 7, 7, 5, 9, 9, 7, 8, 2, 7, 4, 7, 0, 3, 5, 1, 1, 5, 5, 2, 8, 3, 5, 9, 0, 7, 3, 0, 0, 7, 1, 9, 4, 8, 9, 1, 8, 3, 4, 7, 7, 7, 1, 4, 0, 4, 5, 8, 8, 6, 5, 7, 1, 0, 2, 4, 9, 0, 9, 8, 6, 2, 8, 1, 4, 1, 1, 2, 3, 3, 8, 9, 5, 1, 6, 4, 5, 9, 6, 2, 8, 8, 7, 0, 1, 6, 5, 5, 6, 5, 4, 6, 0, 6, 1, 1, 5, 7, 6, 5, 4, 0, 6, 0, 7, 2, 8, 9, 1, 6, 7, 1, 9, 8, 3, 5, 7, 1, 1, 9, 0, 6, 4, 8, 0, 9, 5, 0, 0, 1, 8, 7, 6, 7, 9, 0, 3, 0, 1, 3, 8, 0, \n0, 1, 7, 4, 7, 3, 7, 0, 6, 0, 2, 3, 4, 5, 9, 5, 2, 8, 7, 0, 1, 4, 1, 8, 3, 2, 7, 5, 0, 9, 6, 6, 9, 3, 1, 1, 9, 9, 3, 9, 7, 3, 1, 9, 1, 6, 3, 0, 4, 8, 0, 6, 6, 2, 9, 1, 9, 8, 3, 4, 7, 2, 0, 0, 8, 6, 9, 1, 2, 5, 2, 8, 5, 6, 7, 0, 6, 8, 7, 1, 0, 3, 4, 7, 5, 2, 5, 1, 1, 5, 7, 5, 1, 4, 9, 6, 7, 5, 7, 3, 8, 2, 9, 4, 2, 5, 5, 7, 4, 2, 6, 9, 0, 5, 3, 6, 9, 5, 3, 6, 0, 3, 5, 7, 1, 2, 5, 7, 8, 1, 6, 3, 9, 7, 7, 0, 4, 0, 8, 7, 6, 9, 0, 2, 7, 6, 0, 4, 7, 4, 1, 2, 6, 7, 8, 2, 5, 6, 0, 2, 9, 8, 5, 4, 5, 7, 3, \n3, 9, 8, 1, 2, 2, 6, 1, 0, 5, 5, 9, 6, 8, 3, 5, 0, 6, 8, 1, 1, 9, 1, 1, 4, 2, 7, 1, 5, 3, 4, 9, 7, 8, 0, 4, 8, 9, 1, 9, 3, 3, 3, 9, 0, 9, 1, 2, 5, 4, 2, 8, 3, 8, 9, 1, 3, 2, 7, 0, 4, 5, 8, 9, 2, 9, 3, 3, 8, 1, 7, 2, 7, 2, 0, 2, 0, 6, 7, 5, 3, 6, 9, 1, 2, 5, 8, 0, 5, 9, 6, 9, 9, 4, 6, 6, 3, 9, 8, 6, 1, 0, 4, 2, 6, 1, 0, 0, 7, 7, 2, 3, 2, 0, 5, 6, 4, 9, 3, 6, 8, 8, 6, 3, 8, 2, 7, 2, 4, 7, 9, 2, 3, 3, 9, 1, 6, 3, 8, 7, 2, 7, 1, 4, 1, 6, 2, 6, 8, 1, 6, 5, 9, 3, 7, 4, 5, 5, 0, 6, 3, 0, 8, 4, 1, 9, 9, \n7, 6, 8, 1, 7, 0, 0, 1, 6, 9, 2, 4, 2, 4, 2, 7, 5, 3, 6, 8, 4, 9, 7, 5, 2, 8, 3, 5, 1, 4, 3, 7, 7, 2, 1, 1, 6, 8, 0, 1, 7, 9, 2, 4, 5, 7, 2, 1, 7, 7, 2, 2, 6, 5, 0, 8, 7, 8, 5, 5, 7, 1, 3, 5, 0, 2, 2, 8, 9, 6, 8, 5, 6, 9, 5, 7, 7, 9, 4, 1, 2, 2, 4, 7, 8, 3, 5, 6, 2, 6, 0, 9, 9, 2, 9, 5, 2, 2, 4, 2, 0, 7, 6, 2, 4, 5, 3, 4, 4, 4, 1, 2, 1, 6, 8, 2, 3, 5, 7, 4, 3, 5, 1, 6, 0, 5, 3, 3, 2, 4, 9, 1, 8, 7, 5, 9, 4, 0, 7, 0, 3, 9, 2, 5, 0, 7, 5, 0, 4, 5, 5, 3, 4, 8, 4, 2, 4, 9, 1, 8, 4, 0, 3, 0, 4, 0, 4, \n9, 1, 8, 8, 1, 9, 5, 4, 5, 4, 9, 4, 6, 5, 2, 6, 5, 1, 7, 6, 8, 3, 6, 6, 4, 3, 8, 2, 5, 8, 3, 5, 4, 1, 1, 6, 3, 5, 3, 9, 2, 2, 6, 8, 6, 8, 8, 3, 2, 2, 8, 8, 7, 4, 9, 2, 1, 6, 2, 0, 6, 7, 2, 1, 4, 0, 1, 3, 1, 3, 8, 7, 5, 2, 4, 3, 5, 4, 2, 0, 7, 1, 8, 7, 6, 9, 9, 6, 6, 0, 4, 7, 4, 0, 4, 5, 5, 2, 5, 0, 5, 4, 2, 5, 3, 8, 7, 6, 5, 2, 7, 2, 5, 9, 3, 7, 7, 1, 3, 3, 7, 2, 7, 4, 5, 2, 5, 5, 3, 0, 3, 3, 1, 4, 9, 5, 9, 8, 3, 4, 6, 6, 0, 7, 8, 5, 7, 7, 0, 9, 3, 1, 3, 4, 8, 9, 5, 8, 0, 5, 7, 2, 3, 6, 6, 3, 5, \n2, 1, 1, 7, 1, 0, 1, 7, 3, 9, 1, 1, 3, 3, 6, 1, 1, 2, 0, 7, 1, 9, 6, 6, 5, 8, 8, 0, 0, 8, 9, 9, 4, 9, 8, 2, 1, 1, 0, 4, 5, 7, 8, 1, 3, 6, 3, 2, 9, 0, 1, 3, 8, 4, 9, 7, 1, 9, 9, 3, 1, 3, 0, 3, 6, 9, 9, 1, 1, 5, 2, 1, 7, 9, 5, 9, 1, 5, 9, 4, 8, 7, 7, 0, 7, 8, 9, 6, 2, 7, 2, 0, 0, 9, 4, 6, 2, 2, 8, 2, 7, 0, 3, 4, 6, 0, 2, 1, 2, 8, 0, 7, 3, 3, 8, 9, 8, 2, 9, 4, 8, 6, 3, 7, 0, 5, 8, 1, 6, 7, 8, 2, 8, 1, 7, 2, 0, 8, 3, 9, 1, 9, 0, 2, 6, 1, 8, 6, 5, 0, 4, 2, 2, 2, 2, 3, 3, 4, 1, 9, 5, 9, 4, 6, 8, 9, 3, \n1, 2, 3, 9, 8, 1, 5, 1, 8, 3, 4, 1, 1, 7, 4, 1, 0, 0, 3, 6, 9, 1, 6, 8, 4, 7, 4, 5, 3, 4, 3, 7, 7, 0, 6, 9, 7, 2, 1, 3, 9, 1, 0, 1, 8, 1, 9, 8, 9, 3, 4, 1, 4, 6, 9, 7, 2, 6, 4, 1, 6, 9, 0, 5, 4, 7, 0, 6, 5, 5, 7, 7, 0, 9, 6, 9, 5, 8, 1, 3, 6, 7, 9, 0, 3, 5, 1, 2, 1, 7, 3, 6, 4, 9, 8, 2, 1, 3, 8, 3, 4, 3, 4, 9, 5, 4, 5, 3, 1, 8, 7, 8, 9, 2, 6, 4, 5, 7, 5, 4, 1, 5, 3, 8, 2, 6, 0, 5, 2, 6, 5, 6, 3, 5, 2, 0, 5, 1, 3, 2, 1, 8, 9, 2, 0, 4, 7, 3, 6, 2, 0, 7, 8, 6, 9, 2, 0, 1, 2, 4, 3, 7, 3, 4, 8, 6, 7, \n5, 9, 2, 5, 6, 0, 4, 9, 6, 5, 9, 0, 9, 8, 0, 9, 5, 6, 0, 2, 9, 4, 2, 0, 2, 5, 1, 8, 9, 0, 6, 6, 2, 2, 1, 9, 7, 7, 7, 1, 7, 8, 8, 8, 4, 0, 1, 1, 5, 2, 2, 5, 0, 4, 5, 5, 1, 9, 1, 7, 2, 7, 3, 0, 7, 0, 9, 7, 5, 1, 3, 5, 6, 5, 4, 0, 7, 8, 4, 9, 0, 2, 3, 1, 7, 4, 2, 9, 9, 3, 1, 2, 7, 5, 9, 8, 2, 0, 7, 2, 6, 2, 4, 6, 5, 3, 6, 4, 4, 7, 0, 9, 7, 3, 2, 5, 3, 3, 0, 2, 6, 2, 7, 8, 0, 8, 1, 6, 7, 3, 8, 2, 8, 1, 7, 4, 2, 6, 1, 0, 8, 1, 3, 1, 6, 1, 6, 6, 8, 4, 8, 3, 5, 1, 9, 3, 8, 0, 5, 8, 6, 1, 2, 7, 1, 3, 5, \n8, 4, 7, 1, 7, 3, 8, 9, 4, 2, 3, 8, 3, 6, 8, 9, 6, 2, 4, 2, 8, 1, 6, 7, 1, 8, 2, 3, 0, 1, 7, 5, 1, 9, 4, 3, 1, 3, 6, 9, 4, 6, 0, 5, 1, 4, 4, 9, 7, 4, 0, 4, 3, 0, 4, 8, 5, 9, 5, 0, 3, 0, 2, 0, 8, 9, 2, 1, 3, 9, 4, 0, 1, 5, 9, 2, 7, 1, 2, 6, 6, 4, 1, 4, 6, 4, 6, 2, 3, 2, 8, 7, 9, 5, 5, 7, 8, 8, 3, 4, 0, 1, 7, 4, 3, 3, 0, 6, 9, 2, 2, 4, 7, 6, 3, 8, 6, 2, 1, 0, 9, 4, 0, 6, 7, 1, 1, 3, 0, 1, 8, 7, 6, 3, 0, 5, 5, 3, 3, 0, 8, 4, 3, 5, 5, 6, 1, 4, 5, 7, 2, 1, 5, 5, 3, 2, 0, 9, 5, 4, 0, 9, 3, 4, 0, 4, 3, \n3, 0, 2, 7, 2, 1, 2, 2, 6, 2, 1, 1, 5, 9, 0, 3, 4, 1, 1, 7, 1, 4, 7, 0, 0, 9, 2, 3, 7, 6, 8, 9, 0, 6, 1, 2, 6, 8, 7, 8, 4, 8, 1, 7, 3, 2, 1, 0, 6, 6, 3, 3, 9, 1, 8, 8, 6, 2, 9, 4, 5, 5, 8, 1, 7, 3, 7, 4, 7, 8, 6, 1, 0, 2, 4, 4, 4, 6, 8, 1, 2, 1, 6, 8, 1, 3, 9, 1, 1, 3, 6, 3, 7, 2, 6, 9, 7, 4, 4, 1, 0, 6, 8, 7, 3, 1, 6, 8, 8, 3, 2, 8, 7, 4, 7, 5, 9, 7, 7, 3, 0, 3, 9, 0, 1, 8, 9, 1, 4, 3, 1, 5, 8, 3, 0, 4, 9, 0, 6, 6, 9, 0, 3, 5, 0, 4, 3, 2, 1, 0, 6, 7, 0, 6, 9, 7, 9, 5, 9, 1, 9, 5, 5, 2, 6, 1, 2, \n4, 0, 5, 3, 3, 9, 4, 2, 5, 5, 1, 1, 5, 5, 3, 4, 3, 0, 4, 6, 3, 2, 7, 9, 7, 3, 3, 3, 4, 5, 0, 8, 9, 4, 0, 8, 5, 1, 2, 0, 1, 0, 5, 7, 1, 7, 8, 7, 1, 5, 7, 2, 7, 1, 1, 8, 0, 5, 4, 5, 8, 6, 4, 4, 2, 5, 2, 6, 8, 0, 4, 3, 3, 5, 4, 3, 6, 0, 9, 8, 3, 2, 3, 3, 2, 7, 4, 0, 1, 5, 0, 8, 4, 0, 5, 0, 2, 8, 0, 5, 6, 2, 9, 4, 0, 1, 0, 2, 2, 9, 1, 3, 7, 6, 4, 5, 9, 7, 4, 5, 6, 2, 8, 3, 3, 5, 0, 5, 7, 4, 7, 4, 9, 6, 6, 6, 7, 1, 0, 1, 8, 0, 8, 2, 7, 3, 0, 3, 5, 5, 2, 5, 4, 5, 8, 2, 3, 4, 9, 6, 4, 5, 4, 6, 5, 8, 3, \n3, 4, 8, 4, 4, 2, 8, 6, 7, 7, 8, 6, 5, 4, 7, 7, 5, 3, 1, 4, 4, 8, 5, 0, 3, 5, 0, 9, 1, 4, 9, 9, 1, 5, 4, 5, 9, 8, 3, 4, 1, 8, 1, 3, 7, 4, 9, 5, 2, 5, 4, 5, 9, 9, 8, 9, 9, 1, 4, 9, 6, 5, 2, 2, 1, 8, 7, 7, 4, 1, 7, 7, 2, 3, 5, 2, 3, 5, 8, 6, 7, 4, 0, 4, 2, 3, 2, 7, 9, 8, 1, 5, 1, 8, 0, 2, 3, 5, 8, 4, 6, 0, 8, 3, 4, 9, 7, 1, 7, 9, 8, 6, 7, 4, 5, 0, 9, 1, 2, 6, 2, 0, 8, 3, 2, 3, 3, 7, 4, 4, 2, 7, 5, 5, 7, 6, 1, 9, 4, 0, 4, 7, 1, 9, 4, 3, 6, 1, 7, 2, 6, 1, 4, 9, 0, 6, 8, 2, 6, 8, 6, 3, 5, 6, 1, 7, 5, \n9, 3, 1, 1, 9, 6, 7, 5, 9, 1, 4, 2, 8, 4, 5, 1, 1, 1, 4, 7, 2, 9, 9, 7, 1, 9, 4, 3, 0, 8, 1, 0, 8, 6, 1, 2, 8, 3, 4, 5, 0, 6, 4, 8, 5, 0, 6, 4, 4, 6,\nTraceback:\n",
            "1. keras::to_categorical(y_train, num_classes)",
            "2. do.call(resolve_utils()$to_categorical, args)"
          ]
        }
      ]
    }
  ]
}